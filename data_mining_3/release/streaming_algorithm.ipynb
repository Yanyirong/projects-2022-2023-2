{
 "cells": [
  {
   "attachments": {},
   "cell_type": "markdown",
   "id": "occasional-tennessee",
   "metadata": {
    "papermill": {
     "duration": 0.028099,
     "end_time": "2021-06-17T06:36:25.544592",
     "exception": false,
     "start_time": "2021-06-17T06:36:25.516493",
     "status": "completed"
    },
    "tags": []
   },
   "source": [
    "# EE359-Coursework 4  Streaming Algorithm\n",
    "Existing codes in this file are just hints. You can modify these codes as you want"
   ]
  },
  {
   "attachments": {},
   "cell_type": "markdown",
   "id": "possible-province",
   "metadata": {
    "papermill": {
     "duration": 0.026092,
     "end_time": "2021-06-17T06:36:25.597706",
     "exception": false,
     "start_time": "2021-06-17T06:36:25.571614",
     "status": "completed"
    },
    "tags": []
   },
   "source": [
    "## **Task1：DGIM**\n",
    "\n",
    "DGIM is an efficient algorithm in processing large streams. When it's infeasible to store the flowing binary stream, DGIM can estimate the number of 1-bits in the window. In this coding, you're given the stream_data_dgim.txt (binary stream), and you need to implement the DGIM algorithm to count the number of 1-bits. Write code below."
   ]
  },
  {
   "attachments": {},
   "cell_type": "markdown",
   "id": "interior-newsletter",
   "metadata": {
    "papermill": {
     "duration": 0.026338,
     "end_time": "2021-06-17T06:36:25.650472",
     "exception": false,
     "start_time": "2021-06-17T06:36:25.624134",
     "status": "completed"
    },
    "tags": []
   },
   "source": [
    "### 1. Set the window size to 1000, and count the number of 1-bits in the current window."
   ]
  },
  {
   "cell_type": "code",
   "execution_count": 73,
   "id": "fcdabcf3",
   "metadata": {},
   "outputs": [],
   "source": [
    "from collections import defaultdict, deque\n",
    "from math import ceil\n",
    "import time\n",
    "\n",
    "class DGIM:\n",
    "    def __init__(self, filepath, windowsize=1000, maxtime=None):\n",
    "        self.filepath = filepath\n",
    "        self.fileHandler = open(filepath, 'r')\n",
    "        self.windowSize = windowsize\n",
    "        self.buckets = deque()\n",
    "        self.timeMod = maxtime if maxtime else windowsize << 2\n",
    "        self.timestamp = 0\n",
    "\n",
    "    def run(self):\n",
    "        with open(self.filepath, 'r') as f:\n",
    "            stream = list(map(int, f.read().split()))\n",
    "        for bit in stream:\n",
    "            self.update(bit)\n",
    "\n",
    "    def update(self, bit):\n",
    "        self.timestamp += 1\n",
    "        self.remove_old_buckets()\n",
    "\n",
    "        if bit == 0:\n",
    "            return\n",
    "        \n",
    "        self.buckets.append({'timestamp':self.timestamp, 'size':1})\n",
    "        i = self.update_index()\n",
    "\n",
    "        while i is not None:\n",
    "            self.buckets[i - 1]['size'] += self.buckets[i - 2]['size']\n",
    "            del self.buckets[i - 2]\n",
    "            i = self.update_index()\n",
    "\n",
    "    def update_index(self):\n",
    "        if len(self.buckets) <= 2:\n",
    "            return None\n",
    "\n",
    "        i = len(self.buckets) - 1\n",
    "        while i > 1:\n",
    "            curr_size = self.buckets[i]['size']\n",
    "            if curr_size == self.buckets[i - 1]['size'] == self.buckets[i - 2]['size']:\n",
    "                return i\n",
    "            i -= 1\n",
    "\n",
    "    def remove_old_buckets(self):\n",
    "        while self.buckets and self.buckets[0]['timestamp'] <= (self.timestamp - self.windowSize):\n",
    "            self.buckets.popleft()\n",
    "\n",
    "    def count(self, size):\n",
    "        total_size = 0\n",
    "        last_bucket_size = 0\n",
    "        i = len(self.buckets) - 1\n",
    "        while i >= 0 and self.buckets[i]['timestamp'] > self.timestamp - size:\n",
    "            total_size += self.buckets[i]['size']\n",
    "            last_bucket_size = self.buckets[i]['size']\n",
    "            i -= 1\n",
    "        cnt = total_size - int(last_bucket_size / 2.0)\n",
    "        return cnt"
   ]
  },
  {
   "attachments": {},
   "cell_type": "markdown",
   "id": "unavailable-avatar",
   "metadata": {
    "papermill": {
     "duration": 0.026729,
     "end_time": "2021-06-17T06:36:25.942562",
     "exception": false,
     "start_time": "2021-06-17T06:36:25.915833",
     "status": "completed"
    },
    "tags": []
   },
   "source": [
    "### 2. With the window size 1000, count the number of 1-bits in the last 500 and 200 bits of the bitstream."
   ]
  },
  {
   "cell_type": "code",
   "execution_count": 74,
   "id": "northern-serum",
   "metadata": {
    "execution": {
     "iopub.execute_input": "2021-06-17T06:36:26.000387Z",
     "iopub.status.busy": "2021-06-17T06:36:25.999522Z",
     "iopub.status.idle": "2021-06-17T06:36:26.005633Z",
     "shell.execute_reply": "2021-06-17T06:36:26.004945Z",
     "shell.execute_reply.started": "2021-06-02T12:02:22.109405Z"
    },
    "papermill": {
     "duration": 0.036054,
     "end_time": "2021-06-17T06:36:26.005766",
     "exception": false,
     "start_time": "2021-06-17T06:36:25.969712",
     "status": "completed"
    },
    "tags": []
   },
   "outputs": [
    {
     "name": "stdout",
     "output_type": "stream",
     "text": [
      "Windiw size is 1000\n",
      " DGIM count of 1 is 508, counting time cost 0.00013179999950807542s.\n",
      "Windiw size is 500\n",
      " DGIM count of 1 is 220, counting time cost 1.3999999282532372e-05s.\n",
      "Windiw size is 200\n",
      " DGIM count of 1 is 76, counting time cost 1.1400001312722452e-05s.\n",
      "total running time: 0.00031569999919156544s \n"
     ]
    }
   ],
   "source": [
    "# code here\n",
    "dgim = DGIM(\"stream_data_dgim.txt\", 1000)\n",
    "\n",
    "# 运行DGIM算法\n",
    "dgim.run()\n",
    "\n",
    "# tot_start_time = time.time()\n",
    "# for size in  [1000, 500, 200]: #[1000, 500, 200]:\n",
    "#     start_time = time.time()\n",
    "#     cnt = dgim.count(size)\n",
    "#     print(f\"Windiw size is {size}\")\n",
    "#     print(f\" DGIM count of 1 is {cnt}, counting time cost {time.time() - start_time :.8f}s.\")\n",
    "# print(f'total running time: {time.time() - tot_start_time}s ')\n",
    "tot_start_time = time.perf_counter()\n",
    "for size in  [1000, 500, 200]: #[1000, 500, 200]:\n",
    "    start_time = time.perf_counter()\n",
    "    cnt = dgim.count(size)\n",
    "    print(f\"Windiw size is {size}\")\n",
    "    print(f\" DGIM count of 1 is {cnt}, counting time cost {time.perf_counter() - start_time}s.\")\n",
    "print(f'total running time: {time.perf_counter() - tot_start_time}s ')"
   ]
  },
  {
   "attachments": {},
   "cell_type": "markdown",
   "id": "advisory-destruction",
   "metadata": {
    "papermill": {
     "duration": 0.027634,
     "end_time": "2021-06-17T06:36:26.061269",
     "exception": false,
     "start_time": "2021-06-17T06:36:26.033635",
     "status": "completed"
    },
    "tags": []
   },
   "source": [
    "### 3. Write a function that accurately counts the number of 1-bits in the current window. Caculate the accuracy of your own DGIM algorithm and compare the running time difference."
   ]
  },
  {
   "cell_type": "code",
   "execution_count": 76,
   "id": "excited-firmware",
   "metadata": {
    "execution": {
     "iopub.execute_input": "2021-06-17T06:36:26.123676Z",
     "iopub.status.busy": "2021-06-17T06:36:26.122857Z",
     "iopub.status.idle": "2021-06-17T06:36:26.171342Z",
     "shell.execute_reply": "2021-06-17T06:36:26.170504Z",
     "shell.execute_reply.started": "2021-06-02T12:02:34.036051Z"
    },
    "papermill": {
     "duration": 0.082241,
     "end_time": "2021-06-17T06:36:26.171504",
     "exception": false,
     "start_time": "2021-06-17T06:36:26.089263",
     "status": "completed"
    },
    "tags": []
   },
   "outputs": [
    {
     "name": "stdout",
     "output_type": "stream",
     "text": [
      "DGIM result:508,\t time cost:0.000056800001403s\n",
      "accurate result:391,\t time cost:0.003608400000302936s\n"
     ]
    }
   ],
   "source": [
    "# Your code here, you can add cells if necessary\n",
    "import numpy as np\n",
    "import time\n",
    "\n",
    "def accurateCountTask1():\n",
    "    with open('stream_data_dgim.txt', 'r') as f:\n",
    "        stream = list(map(int, f.read().split()))\n",
    "    return sum(stream[-1000:])\n",
    "dgim = DGIM('stream_data_dgim.txt', windowsize=1000)\n",
    "dgim.run()\n",
    "time1 = time.perf_counter()\n",
    "dgim.count(1000)\n",
    "time2 = time.perf_counter()\n",
    "print(\"DGIM result:{},\\t time cost:{:.15f}s\".format(dgim.count(1000), time2 - time1))\n",
    "time1 = time.perf_counter()\n",
    "accurateCountTask1()\n",
    "time2 = time.perf_counter()\n",
    "print(\"accurate result:{},\\t time cost:{}s\".format(accurateCountTask1(),time2-time1))\n"
   ]
  },
  {
   "attachments": {},
   "cell_type": "markdown",
   "id": "acting-western",
   "metadata": {
    "papermill": {
     "duration": 0.027707,
     "end_time": "2021-06-17T06:36:26.227410",
     "exception": false,
     "start_time": "2021-06-17T06:36:26.199703",
     "status": "completed"
    },
    "tags": []
   },
   "source": [
    "## **Task2: Bloom Filter**\n",
    "\n",
    "A Bloom filter is a space-efficient probabilistic data structure. Here the task is to implement a bloom filter by yourself. "
   ]
  },
  {
   "attachments": {},
   "cell_type": "markdown",
   "id": "colored-blocking",
   "metadata": {
    "papermill": {
     "duration": 0.027519,
     "end_time": "2021-06-17T06:36:26.282797",
     "exception": false,
     "start_time": "2021-06-17T06:36:26.255278",
     "status": "completed"
    },
    "tags": []
   },
   "source": [
    "### Data loading:\n",
    "\n",
    "From the NLTK (Natural Language ToolKit) library, we import a large list of English dictionary words, commonly used by the very first spell-checking programs in Unix-like operating systems."
   ]
  },
  {
   "cell_type": "code",
   "execution_count": 37,
   "id": "magnetic-casino",
   "metadata": {
    "execution": {
     "iopub.execute_input": "2021-06-17T06:36:26.343667Z",
     "iopub.status.busy": "2021-06-17T06:36:26.343062Z",
     "iopub.status.idle": "2021-06-17T06:36:28.084580Z",
     "shell.execute_reply": "2021-06-17T06:36:28.084175Z",
     "shell.execute_reply.started": "2021-06-17T06:35:19.307980Z"
    },
    "papermill": {
     "duration": 1.773889,
     "end_time": "2021-06-17T06:36:28.084700",
     "exception": false,
     "start_time": "2021-06-17T06:36:26.310811",
     "status": "completed"
    },
    "tags": []
   },
   "outputs": [
    {
     "name": "stderr",
     "output_type": "stream",
     "text": [
      "[nltk_data] Downloading package words to\n",
      "[nltk_data]     C:\\Users\\Lenovo\\AppData\\Roaming\\nltk_data...\n",
      "[nltk_data]   Package words is already up-to-date!\n"
     ]
    }
   ],
   "source": [
    "import nltk\n",
    "from nltk.corpus import words\n",
    "nltk.download('words')\n",
    "word_list = words.words()"
   ]
  },
  {
   "attachments": {},
   "cell_type": "markdown",
   "id": "involved-princess",
   "metadata": {
    "papermill": {
     "duration": 0.017573,
     "end_time": "2021-06-17T06:36:28.120867",
     "exception": false,
     "start_time": "2021-06-17T06:36:28.103294",
     "status": "completed"
    },
    "tags": []
   },
   "source": [
    "Then we load another dataset from the NLTK Corpora collection: movie_reviews.\n",
    "\n",
    "The movie reviews are categorized between positive and negative, so we construct a list of words (usually called bag of words) for each category."
   ]
  },
  {
   "cell_type": "code",
   "execution_count": 38,
   "id": "pretty-disaster",
   "metadata": {
    "execution": {
     "iopub.execute_input": "2021-06-17T06:36:28.175929Z",
     "iopub.status.busy": "2021-06-17T06:36:28.173349Z",
     "iopub.status.idle": "2021-06-17T06:36:31.060114Z",
     "shell.execute_reply": "2021-06-17T06:36:31.059551Z",
     "shell.execute_reply.started": "2021-06-17T06:35:27.493476Z"
    },
    "papermill": {
     "duration": 2.921382,
     "end_time": "2021-06-17T06:36:31.060232",
     "exception": false,
     "start_time": "2021-06-17T06:36:28.138850",
     "status": "completed"
    },
    "tags": []
   },
   "outputs": [
    {
     "name": "stderr",
     "output_type": "stream",
     "text": [
      "[nltk_data] Downloading package movie_reviews to\n",
      "[nltk_data]     C:\\Users\\Lenovo\\AppData\\Roaming\\nltk_data...\n",
      "[nltk_data]   Package movie_reviews is already up-to-date!\n"
     ]
    }
   ],
   "source": [
    "from nltk.corpus import movie_reviews\n",
    "nltk.download('movie_reviews')\n",
    "\n",
    "neg_reviews = []\n",
    "pos_reviews = []\n",
    "\n",
    "for fileid in movie_reviews.fileids('neg'):\n",
    "  neg_reviews.extend(movie_reviews.words(fileid))\n",
    "for fileid in movie_reviews.fileids('pos'):\n",
    "  pos_reviews.extend(movie_reviews.words(fileid))"
   ]
  },
  {
   "attachments": {},
   "cell_type": "markdown",
   "id": "proper-canada",
   "metadata": {
    "papermill": {
     "duration": 0.017491,
     "end_time": "2021-06-17T06:36:31.096095",
     "exception": false,
     "start_time": "2021-06-17T06:36:31.078604",
     "status": "completed"
    },
    "tags": []
   },
   "source": [
    "Here we get a data stream (word_list) and 2 query lists (neg_reviews and pos_reviews)."
   ]
  },
  {
   "attachments": {},
   "cell_type": "markdown",
   "id": "dense-sleep",
   "metadata": {
    "papermill": {
     "duration": 0.017858,
     "end_time": "2021-06-17T06:36:31.131752",
     "exception": false,
     "start_time": "2021-06-17T06:36:31.113894",
     "status": "completed"
    },
    "tags": []
   },
   "source": [
    "### 1. Write a function that accurately determines whether each word in neg_reviews and pos_reviews belongs to word_list."
   ]
  },
  {
   "cell_type": "code",
   "execution_count": 39,
   "id": "worse-service",
   "metadata": {
    "execution": {
     "iopub.execute_input": "2021-06-17T06:36:31.173903Z",
     "iopub.status.busy": "2021-06-17T06:36:31.173444Z",
     "iopub.status.idle": "2021-06-17T06:36:31.175860Z",
     "shell.execute_reply": "2021-06-17T06:36:31.175408Z",
     "shell.execute_reply.started": "2021-06-17T06:35:33.558906Z"
    },
    "papermill": {
     "duration": 0.026247,
     "end_time": "2021-06-17T06:36:31.175974",
     "exception": false,
     "start_time": "2021-06-17T06:36:31.149727",
     "status": "completed"
    },
    "tags": []
   },
   "outputs": [],
   "source": [
    "import numpy as np\n",
    "import time\n",
    "\n",
    "def linear_search(word_list, target_word):\n",
    "    return target_word in word_list"
   ]
  },
  {
   "cell_type": "code",
   "execution_count": 40,
   "id": "executive-marketplace",
   "metadata": {
    "execution": {
     "iopub.execute_input": "2021-06-17T06:36:31.219426Z",
     "iopub.status.busy": "2021-06-17T06:36:31.218542Z",
     "iopub.status.idle": "2021-06-17T06:36:33.645616Z",
     "shell.execute_reply": "2021-06-17T06:36:33.645097Z",
     "shell.execute_reply.started": "2021-06-17T06:35:35.345876Z"
    },
    "papermill": {
     "duration": 2.451173,
     "end_time": "2021-06-17T06:36:33.645747",
     "exception": false,
     "start_time": "2021-06-17T06:36:31.194574",
     "status": "completed"
    },
    "tags": []
   },
   "outputs": [
    {
     "name": "stdout",
     "output_type": "stream",
     "text": [
      "Search Time: 3826.2166328430176\n"
     ]
    }
   ],
   "source": [
    "# Binary search\n",
    "neg_flag_b = np.zeros(len(neg_reviews), dtype=bool)\n",
    "pos_flag_b = np.zeros(len(pos_reviews), dtype=bool)\n",
    "# to store the accurate result\n",
    "\n",
    "t = time.time()\n",
    "sorted_word_list = sorted(word_list)\n",
    "for i, neg_word in enumerate(neg_reviews):\n",
    "    neg_flag_b[i] = linear_search(sorted_word_list, neg_word)\n",
    "for i, pos_word in enumerate(pos_reviews):\n",
    "    pos_flag_b[i] = linear_search(sorted_word_list, pos_word)\n",
    "print(\"Search Time:\", time.time() - t)"
   ]
  },
  {
   "attachments": {},
   "cell_type": "markdown",
   "id": "moral-diamond",
   "metadata": {
    "papermill": {
     "duration": 0.019059,
     "end_time": "2021-06-17T06:36:33.683932",
     "exception": false,
     "start_time": "2021-06-17T06:36:33.664873",
     "status": "completed"
    },
    "tags": []
   },
   "source": [
    " ### 2. Implement the bloom filter by yourself and add all words in word_list in your bloom filter. Compare the running time difference between exact search (Task2 Question1) and multiple hash computations in a Bloom filter."
   ]
  },
  {
   "cell_type": "code",
   "execution_count": 77,
   "id": "brief-helping",
   "metadata": {
    "execution": {
     "iopub.execute_input": "2021-06-17T06:36:33.723893Z",
     "iopub.status.busy": "2021-06-17T06:36:33.723412Z",
     "iopub.status.idle": "2021-06-17T06:36:33.730433Z",
     "shell.execute_reply": "2021-06-17T06:36:33.730806Z",
     "shell.execute_reply.started": "2021-06-17T06:35:40.935475Z"
    },
    "papermill": {
     "duration": 0.028398,
     "end_time": "2021-06-17T06:36:33.730935",
     "exception": false,
     "start_time": "2021-06-17T06:36:33.702537",
     "status": "completed"
    },
    "tags": []
   },
   "outputs": [],
   "source": [
    "import hashlib\n",
    "import numpy as np\n",
    "import time\n",
    "import matplotlib.pyplot as plt\n",
    "\n",
    "class BloomFilter:\n",
    "    def __init__(self, m, k):\n",
    "        self.m = int(m)\n",
    "        self.k = int(k)\n",
    "        self.table = np.zeros((self.m), dtype=bool)\n",
    "        self.hash_func = [hashlib.sha256(), hashlib.md5(), hashlib.sha1(), hashlib.sha224(), hashlib.sha384(), hashlib.sha512()]\n",
    "    def add(self, item):\n",
    "        hash1 = hashlib.sha256()\n",
    "        hash1.update(item.encode())\n",
    "        hash1 = int(hash1.hexdigest(), 16) % self.m\n",
    "        hash2 = hashlib.md5()\n",
    "        hash2.update(item.encode())\n",
    "        hash2 = int(hash2.hexdigest(), 16) % self.m\n",
    "        \n",
    "        for i in range(self.k):\n",
    "            h = (hash1 + i * hash2) % self.m\n",
    "            self.table[h] = True\n",
    "    def check(self, item):\n",
    "        hash1 = hashlib.sha256()\n",
    "        hash1.update(item.encode())\n",
    "        hash1 = int(hash1.hexdigest(), 16) % self.m\n",
    "        hash2 = hashlib.md5()\n",
    "        hash2.update(item.encode())\n",
    "        hash2 = int(hash2.hexdigest(), 16) % self.m\n",
    "        \n",
    "        for i in range(self.k):\n",
    "            h = (hash1 + i * hash2) % self.m\n",
    "            if not self.table[h]:\n",
    "                return False\n",
    "        return True\n",
    "    # def false_positive_rate(self, n):\n",
    "    #     fp = 0\n",
    "    #     for i in range(n):\n",
    "    #         item = str(i)\n",
    "    #         if self.check(item):\n",
    "    #             if i >= self.count:\n",
    "    #                 fp += 1\n",
    "    #     return fp / n"
   ]
  },
  {
   "cell_type": "code",
   "execution_count": 78,
   "id": "casual-slope",
   "metadata": {
    "execution": {
     "iopub.execute_input": "2021-06-17T06:36:33.770924Z",
     "iopub.status.busy": "2021-06-17T06:36:33.770439Z",
     "iopub.status.idle": "2021-06-17T06:36:40.521347Z",
     "shell.execute_reply": "2021-06-17T06:36:40.521746Z",
     "shell.execute_reply.started": "2021-06-17T06:35:43.948830Z"
    },
    "papermill": {
     "duration": 6.772232,
     "end_time": "2021-06-17T06:36:40.521877",
     "exception": false,
     "start_time": "2021-06-17T06:36:33.749645",
     "status": "completed"
    },
    "tags": []
   },
   "outputs": [
    {
     "name": "stdout",
     "output_type": "stream",
     "text": [
      "Bloom Filter Time: 7.620692729949951\n",
      "Accuracy:\n",
      "neg: 751255 / 751256 = 1.0000\n",
      "pos: 832564 / 832564 = 1.0000\n"
     ]
    }
   ],
   "source": [
    "bf = BloomFilter(1e7, 4)\n",
    "neg_bf = np.zeros(len(neg_reviews), dtype=bool)\n",
    "pos_bf = np.zeros(len(pos_reviews), dtype=bool)\n",
    "n = neg_bf.shape[0] + pos_bf.shape[0]\n",
    "t = time.time()\n",
    "for word in word_list:\n",
    "    bf.add(word)\n",
    "for i, neg_word in enumerate(neg_reviews):\n",
    "    neg_bf[i] = bf.check(neg_word)\n",
    "for i, pos_word in enumerate(pos_reviews):\n",
    "    pos_bf[i] = bf.check(pos_word)\n",
    "print(\"Bloom Filter Time:\", time.time()-t)\n",
    "print(\"Accuracy:\")\n",
    "print(f\"neg: {(neg_bf == neg_flag_b).sum()} / {neg_bf.shape[0]} = {(neg_bf == neg_flag_b).sum() / neg_bf.shape[0]:.4f}\")\n",
    "print(f\"pos: {(pos_bf == pos_flag_b).sum()} / {pos_bf.shape[0]} = {(pos_bf == pos_flag_b).sum() / pos_bf.shape[0]:.4f}\")"
   ]
  },
  {
   "attachments": {},
   "cell_type": "markdown",
   "id": "capable-crossing",
   "metadata": {
    "papermill": {
     "duration": 0.018734,
     "end_time": "2021-06-17T07:46:13.277011",
     "exception": false,
     "start_time": "2021-06-17T07:46:13.258277",
     "status": "completed"
    },
    "tags": []
   },
   "source": [
    "### 3. Use different bit array length ‘m’ and number of hash functions ‘k’ to implement the bloom filter algorithm. Then compare the impact of different m and k on the false positive rate."
   ]
  },
  {
   "cell_type": "code",
   "execution_count": 82,
   "id": "c50e338e",
   "metadata": {},
   "outputs": [
    {
     "data": {
      "image/png": "[encoded data removed]",
      "text/plain": [
       "<Figure size 432x288 with 1 Axes>"
      ]
     },
     "metadata": {
      "needs_background": "light"
     },
     "output_type": "display_data"
    }
   ],
   "source": [
    "# 构建 Bloom 过滤器\n",
    "m_values = [1e5,1e6,1e7,1e8,1e9]\n",
    "# m_values = [1e5,1e6]\n",
    "k_values = [1, 2, 3, 4, 5]\n",
    "for m in m_values:\n",
    "    pos_false_positive_rate = []\n",
    "    neg_false_positive_rate = []\n",
    "    for k in k_values:\n",
    "        bf = BloomFilter(m, k)\n",
    "        neg_bf = np.zeros(len(neg_reviews), dtype=bool)\n",
    "        pos_bf = np.zeros(len(pos_reviews), dtype=bool)\n",
    "        n = neg_bf.shape[0] + pos_bf.shape[0]\n",
    "        for review in pos_reviews:\n",
    "            bf.add(review)\n",
    "        for i, neg_word in enumerate(neg_reviews):\n",
    "            neg_bf[i] = bf.check(neg_word)\n",
    "        for i, pos_word in enumerate(pos_reviews):\n",
    "            pos_bf[i] = bf.check(pos_word)\n",
    "        pos_cnt = 0\n",
    "        neg_cnt = 0\n",
    "        for i in range(neg_bf.shape[0]):\n",
    "            if neg_bf[i] == neg_flag_b[i]:\n",
    "                neg_cnt += 1\n",
    "        for i in range(pos_bf.shape[0]):\n",
    "            if pos_bf[i] == pos_flag_b[i]:\n",
    "                pos_cnt += 1\n",
    "        pos_false_positive_rate.append(1 - pos_cnt / pos_bf.shape[0])\n",
    "        neg_false_positive_rate.append(1 - neg_cnt / neg_bf.shape[0])\n",
    "        del bf\n",
    "    plt.plot(k_values, pos_false_positive_rate, label=f\"m={m}, pos\")\n",
    "    plt.plot(k_values, neg_false_positive_rate, label=f\"m={m}, neg\")\n",
    "plt.xlabel(\"k\")\n",
    "plt.ylabel(\"false_positive_rate\")\n",
    "plt.title(\"Impact of m and k on false positive rate\")\n",
    "plt.legend()\n",
    "plt.show()\n",
    "\n",
    "\n",
    "# for j, m in enumerate(m_values):    \n",
    "#     for i, k in enumerate(k_values):\n",
    "#         bf = BloomFilter(m, k)\n",
    "#         for review in neg_reviews:\n",
    "#             bf.add(review)\n",
    "#         for review in pos_reviews:\n",
    "#             bf.add(review)\n",
    "#         fp_rate = bf.false_positive_rate(n * 2)\n",
    "#         fp_rates[i, j] = fp_rate\n",
    "\n",
    "# # 绘制误判率曲线\n",
    "# for i, k in enumerate(k_values):\n",
    "#     plt.plot(k_values, fp_rates[i, :], label=f\"k={k}\")\n",
    "\n",
    "# plt.xlabel(\"m\")\n",
    "# plt.ylabel(\"false_positive_rate\")\n",
    "# plt.title(\"Impact of m and k on false positive rate\")\n",
    "# plt.legend()\n",
    "# plt.show()\n"
   ]
  },
  {
   "attachments": {},
   "cell_type": "markdown",
   "id": "descending-hudson",
   "metadata": {
    "papermill": {
     "duration": 0.02154,
     "end_time": "2021-06-17T07:47:25.182648",
     "exception": false,
     "start_time": "2021-06-17T07:47:25.161108",
     "status": "completed"
    },
    "tags": []
   },
   "source": [
    "## **Task3: Count-Min sketch**\n",
    "\n"
   ]
  },
  {
   "attachments": {},
   "cell_type": "markdown",
   "id": "limited-minute",
   "metadata": {
    "papermill": {
     "duration": 0.021336,
     "end_time": "2021-06-17T07:47:25.225512",
     "exception": false,
     "start_time": "2021-06-17T07:47:25.204176",
     "status": "completed"
    },
    "tags": []
   },
   "source": [
    "In computing, the count–min sketch (CM sketch) is a probabilistic data structure that serves as a frequency table of events in a stream of data. "
   ]
  },
  {
   "attachments": {},
   "cell_type": "markdown",
   "id": "fancy-secretary",
   "metadata": {
    "papermill": {
     "duration": 0.021627,
     "end_time": "2021-06-17T07:47:25.269245",
     "exception": false,
     "start_time": "2021-06-17T07:47:25.247618",
     "status": "completed"
    },
    "tags": []
   },
   "source": [
    "Here we use the query stream (neg_reviews or pos_reviews) from task 2."
   ]
  },
  {
   "attachments": {},
   "cell_type": "markdown",
   "id": "documentary-broad",
   "metadata": {
    "papermill": {
     "duration": 0.021543,
     "end_time": "2021-06-17T07:47:25.312815",
     "exception": false,
     "start_time": "2021-06-17T07:47:25.291272",
     "status": "completed"
    },
    "tags": []
   },
   "source": [
    "### 1. Write a function that accurately counts the occurrence times of each word in neg_reviews or pos_reviews."
   ]
  },
  {
   "cell_type": "code",
   "execution_count": 92,
   "id": "supported-symbol",
   "metadata": {
    "execution": {
     "iopub.execute_input": "2021-06-17T07:47:25.376670Z",
     "iopub.status.busy": "2021-06-17T07:47:25.371449Z",
     "iopub.status.idle": "2021-06-17T07:47:25.494432Z",
     "shell.execute_reply": "2021-06-17T07:47:25.493992Z"
    },
    "papermill": {
     "duration": 0.159072,
     "end_time": "2021-06-17T07:47:25.494543",
     "exception": false,
     "start_time": "2021-06-17T07:47:25.335471",
     "status": "completed"
    },
    "tags": []
   },
   "outputs": [
    {
     "name": "stdout",
     "output_type": "stream",
     "text": [
      "pos_accCount: 30417\n"
     ]
    }
   ],
   "source": [
    "# Your code here, you can add cells if necessary\n",
    "from collections import defaultdict, Counter\n",
    "def accCount(words):\n",
    "    # freq = defaultdict(int)\n",
    "    # for word in words:\n",
    "    #     freq[word]+=1\n",
    "    # print(f\"Total words: {len(freq)}\")\n",
    "    # return sum(freq.values())\n",
    "    return Counter(words)\n",
    "pos_accCount = accCount(pos_reviews)\n",
    "print(\"pos_accCount:\", len(pos_accCount))\n"
   ]
  },
  {
   "attachments": {},
   "cell_type": "markdown",
   "id": "painted-homeless",
   "metadata": {
    "papermill": {
     "duration": 0.021832,
     "end_time": "2021-06-17T07:47:25.538373",
     "exception": false,
     "start_time": "2021-06-17T07:47:25.516541",
     "status": "completed"
    },
    "tags": []
   },
   "source": [
    "### 2. Implement the Count-Min sketch by yourself. Set different width w and depth d of the internal data structure of CM-Sketch. Compare the influence of different w and d on the error."
   ]
  },
  {
   "cell_type": "code",
   "execution_count": 102,
   "id": "hindu-profit",
   "metadata": {
    "execution": {
     "iopub.execute_input": "2021-06-17T07:47:25.585156Z",
     "iopub.status.busy": "2021-06-17T07:47:25.584646Z",
     "iopub.status.idle": "2021-06-17T07:47:25.593097Z",
     "shell.execute_reply": "2021-06-17T07:47:25.593467Z"
    },
    "papermill": {
     "duration": 0.032952,
     "end_time": "2021-06-17T07:47:25.593608",
     "exception": false,
     "start_time": "2021-06-17T07:47:25.560656",
     "status": "completed"
    },
    "tags": []
   },
   "outputs": [
    {
     "name": "stdout",
     "output_type": "stream",
     "text": [
      "neg_accCount: 28480\n",
      "pos_accCount: 30417\n"
     ]
    }
   ],
   "source": [
    "import hashlib\n",
    "import numpy as np\n",
    "import time\n",
    "import matplotlib.pyplot as plt\n",
    "import random\n",
    "# Your code here, you can add cells if necessary\n",
    "neg_accCount = accCount(neg_reviews)\n",
    "pos_accCount = accCount(pos_reviews)\n",
    "print(\"neg_accCount:\", len(neg_accCount))\n",
    "print(\"pos_accCount:\", len(pos_accCount))\n",
    "total_count = neg_accCount + pos_accCount\n",
    "\n",
    "class CountMin:\n",
    "    def __init__(self, w, d):\n",
    "        self.w = int(w)\n",
    "        self.d = int(d)\n",
    "        self.table=np.zeros((self.d, self.w), dtype=int)\n",
    "    def add(self, item):\n",
    "        hash1 = hashlib.sha256()\n",
    "        hash1.update(item.encode())\n",
    "        hash1 = int(hash1.hexdigest(), 16) % self.w\n",
    "        hash2 = hashlib.md5()\n",
    "        hash2.update(item.encode())\n",
    "        hash2 = int(hash2.hexdigest(), 16) % self.w\n",
    "        h = hash1\n",
    "        for i in range(self.d):\n",
    "            self.table[i][h] += 1\n",
    "            h = (h + hash2) % self.w\n",
    "    def count(self, item):\n",
    "        hash1 = hashlib.sha256()\n",
    "        hash1.update(item.encode())\n",
    "        hash1 = int(hash1.hexdigest(), 16) % self.w\n",
    "        hash2 = hashlib.md5()\n",
    "        hash2.update(item.encode())\n",
    "        hash2 = int(hash2.hexdigest(), 16) % self.w\n",
    "        h = hash1\n",
    "        min_cnt = self.table[0][h]\n",
    "        for i in range(self.d):\n",
    "            min_cnt = min(min_cnt, self.table[i][h])\n",
    "            h = (h + hash2) % self.w\n",
    "        return min_cnt\n",
    "    \n",
    "    def add_all(self, words):\n",
    "        for word in words:\n",
    "            self.add(word)\n",
    "\n",
    "\n",
    "# # 测试 Count-Min Sketch 的误差\n",
    "# w_values = [100, 1000, 10000]\n",
    "# d_values = [1, 2, 3, 4, 5]\n",
    "# for w in w_values:\n",
    "#     for d in d_values:\n",
    "#         cm = CountMin(w, d)\n",
    "#         for review in neg_reviews:\n",
    "#             cm.add(review)\n",
    "#         for review in pos_reviews:\n",
    "#             cm.add(review)\n",
    "#         neg_err = sum([abs(cm.count(word) - neg_reviews.count(word)) for word in neg_reviews]) / neg_accCount\n",
    "#         pos_err = sum([abs(cm.count(word) - pos_reviews.count(word)) for word in pos_reviews]) / pos_accCount\n",
    "#         total_err = sum([abs(cm.count(word) - (neg_reviews.count(word) + pos_reviews.count(word))) for word in set(neg_reviews + pos_reviews)]) / total_count\n",
    "#         print(f\"w={w}, d={d}, neg_err={neg_err:.3f}, pos_err={pos_err:.3f}, total_err={total_err:.3f}\")"
   ]
  },
  {
   "cell_type": "code",
   "execution_count": 103,
   "id": "8ceea6e8",
   "metadata": {},
   "outputs": [
    {
     "name": "stdout",
     "output_type": "stream",
     "text": [
      "m = 1e+06, k = 1,\n",
      "acc: 97.0822 %\n",
      "mean difference: 0.6376\n",
      "max difference: 3658 \n",
      "min difference: 0\n",
      "\n",
      "m = 1e+06, k = 2,\n",
      "acc: 99.9192 %\n",
      "mean difference: 0.0025\n",
      "max difference: 23 \n",
      "min difference: 0\n",
      "\n",
      "m = 1e+06, k = 3,\n",
      "acc: 100.0000 %\n",
      "mean difference: 0.0000\n",
      "max difference: 0 \n",
      "min difference: 0\n",
      "\n",
      "m = 1e+06, k = 4,\n",
      "acc: 100.0000 %\n",
      "mean difference: 0.0000\n",
      "max difference: 0 \n",
      "min difference: 0\n",
      "\n",
      "m = 1e+06, k = 5,\n",
      "acc: 100.0000 %\n",
      "mean difference: 0.0000\n",
      "max difference: 0 \n",
      "min difference: 0\n",
      "\n",
      "m = 1e+07, k = 1,\n",
      "acc: 99.7402 %\n",
      "mean difference: 0.0252\n",
      "max difference: 154 \n",
      "min difference: 0\n",
      "\n",
      "m = 1e+07, k = 2,\n",
      "acc: 100.0000 %\n",
      "mean difference: 0.0000\n",
      "max difference: 0 \n",
      "min difference: 0\n",
      "\n",
      "m = 1e+07, k = 3,\n",
      "acc: 100.0000 %\n",
      "mean difference: 0.0000\n",
      "max difference: 0 \n",
      "min difference: 0\n",
      "\n",
      "m = 1e+07, k = 4,\n",
      "acc: 100.0000 %\n",
      "mean difference: 0.0000\n",
      "max difference: 0 \n",
      "min difference: 0\n",
      "\n",
      "m = 1e+07, k = 5,\n",
      "acc: 100.0000 %\n",
      "mean difference: 0.0000\n",
      "max difference: 0 \n",
      "min difference: 0\n",
      "\n",
      "m = 1e+08, k = 1,\n",
      "acc: 99.9789 %\n",
      "mean difference: 0.0006\n",
      "max difference: 7 \n",
      "min difference: 0\n",
      "\n",
      "m = 1e+08, k = 2,\n",
      "acc: 100.0000 %\n",
      "mean difference: 0.0000\n",
      "max difference: 0 \n",
      "min difference: 0\n",
      "\n",
      "m = 1e+08, k = 3,\n",
      "acc: 100.0000 %\n",
      "mean difference: 0.0000\n",
      "max difference: 0 \n",
      "min difference: 0\n",
      "\n",
      "m = 1e+08, k = 4,\n",
      "acc: 100.0000 %\n",
      "mean difference: 0.0000\n",
      "max difference: 0 \n",
      "min difference: 0\n",
      "\n",
      "m = 1e+08, k = 5,\n",
      "acc: 100.0000 %\n",
      "mean difference: 0.0000\n",
      "max difference: 0 \n",
      "min difference: 0\n",
      "\n"
     ]
    },
    {
     "data": {
      "image/png": "[encoded data removed]",
      "text/plain": [
       "<Figure size 864x720 with 6 Axes>"
      ]
     },
     "metadata": {
      "needs_background": "light"
     },
     "output_type": "display_data"
    }
   ],
   "source": [
    "import matplotlib.pyplot as plt\n",
    "\n",
    "results_list = {}\n",
    "\n",
    "# Define a list of m values to test\n",
    "m_values = [int(10**i) for i in range(6, 9)]\n",
    "\n",
    "fig, axs = plt.subplots(nrows=len(m_values), ncols=2, figsize=(12, 10))\n",
    "\n",
    "for i, m in enumerate(m_values):\n",
    "    acc_list, mean_list, max_list, min_list = [], [], [], []\n",
    "\n",
    "    # Define a list of k values to test\n",
    "    k_values = [1, 2, 3, 4, 5]\n",
    "\n",
    "    # for k in k_values:\n",
    "    #     pred_res = {}\n",
    "    #     difference = {}\n",
    "    #     count_min = CountMin(m, k)\n",
    "    #     count_min.add_all(neg_reviews)\n",
    "\n",
    "    #     for word in neg_reviews:\n",
    "    #         word_res = count_min.count(word)   \n",
    "    #         pred_res[word] = word_res     \n",
    "    #         difference[word] = abs(word_res - neg_accCount[word])\n",
    "\n",
    "    #     del count_min  # to save memory\n",
    "\n",
    "    #     diff_values = np.array(list(difference.values()))\n",
    "    #     print(f'm = {m:.0e}, k = {k},')\n",
    "    #     print(f'acc: {100 * np.sum(diff_values == 0) / len(diff_values):.4f} %')\n",
    "    #     print(f'mean difference: {np.mean(diff_values):.4f}')\n",
    "    #     print(f'max difference: {np.max(diff_values)} ')\n",
    "    #     print(f'min difference: {np.min(diff_values)}')\n",
    "    #     print()\n",
    "\n",
    "    #     acc_list.append(100 * np.sum(diff_values == 0) / len(diff_values))\n",
    "    #     mean_list.append(np.mean(diff_values))\n",
    "    #     max_list.append(np.max(diff_values))\n",
    "    #     min_list.append(np.min(diff_values))\n",
    "\n",
    "    for k in k_values:\n",
    "        count_min = CountMin(m, k)\n",
    "        count_min.add_all(neg_reviews)\n",
    "\n",
    "        pred_res = {word: count_min.count(word) for word in neg_reviews}\n",
    "        difference = {word: abs(pred_res[word] - neg_accCount[word]) for word in neg_reviews}\n",
    "\n",
    "        del count_min  # to save memory\n",
    "\n",
    "        diff_values = np.array(list(difference.values()))\n",
    "        print(f'm = {m:.0e}, k = {k},')\n",
    "        print(f'acc: {100 * np.sum(diff_values == 0) / len(diff_values):.4f} %')\n",
    "        print(f'mean difference: {np.mean(diff_values):.4f}')\n",
    "        print(f'max difference: {np.max(diff_values)} ')\n",
    "        print(f'min difference: {np.min(diff_values)}')\n",
    "        print()\n",
    "\n",
    "        acc_list.append(100 * np.sum(diff_values == 0) / len(diff_values))\n",
    "        mean_list.append(np.mean(diff_values))\n",
    "        max_list.append(np.max(diff_values))\n",
    "        min_list.append(np.min(diff_values))\n",
    "\n",
    "    results_list[m] = {'acc_list': acc_list, 'mean_list': mean_list, 'max_list': max_list, 'min_list': min_list}\n",
    "\n",
    "    axs[i, 0].plot(k_values, results_list[m]['acc_list'])\n",
    "    axs[i, 0].set_title(f\"results of m = {m:.0e}\")\n",
    "    axs[i, 0].set_xlabel(\"k\")\n",
    "    axs[i, 0].set_ylabel(\"acc / %\")\n",
    "\n",
    "    axs[i, 1].plot(k_values, results_list[m]['mean_list'], label='mean of difference')\n",
    "    axs[i, 1].plot(k_values, results_list[m]['max_list'], label='max of difference')\n",
    "    axs[i, 1].plot(k_values, results_list[m]['min_list'], label='min of difference')\n",
    "    axs[i, 1].set_xlabel(\"k\")\n",
    "    axs[i, 1].set_ylabel(\"difference results\")\n",
    "    axs[i, 1].legend()\n",
    "\n",
    "plt.tight_layout()\n",
    "plt.show()"
   ]
  }
 ],
 "metadata": {
  "kernelspec": {
   "display_name": "Python 3",
   "language": "python",
   "name": "python3"
  },
  "language_info": {
   "codemirror_mode": {
    "name": "ipython",
    "version": 3
   },
   "file_extension": ".py",
   "mimetype": "text/x-python",
   "name": "python",
   "nbconvert_exporter": "python",
   "pygments_lexer": "ipython3",
   "version": "3.9.7"
  },
  "papermill": {
   "default_parameters": {},
   "duration": 4615.162878,
   "end_time": "2021-06-17T07:53:15.335565",
   "environment_variables": {},
   "exception": null,
   "input_path": "__notebook__.ipynb",
   "output_path": "__notebook__.ipynb",
   "parameters": {},
   "start_time": "2021-06-17T06:36:20.172687",
   "version": "2.3.2"
  }
 },
 "nbformat": 4,
 "nbformat_minor": 5
}
